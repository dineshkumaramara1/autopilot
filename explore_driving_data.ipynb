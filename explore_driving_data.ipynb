{
 "cells": [
  {
   "cell_type": "markdown",
   "metadata": {},
   "source": [
    "## Exploring driving data\n",
    "\n",
    "Reviewing the available driving data for different driving data sets to determine suitability for training."
   ]
  },
  {
   "cell_type": "code",
   "execution_count": 66,
   "metadata": {
    "collapsed": true
   },
   "outputs": [],
   "source": [
    "import pandas as pd\n",
    "import matplotlib.pyplot as plt\n",
    "import scipy.misc\n",
    "\n",
    "%matplotlib inline\n",
    "pd.options.display.mpl_style = 'default'\n",
    "\n",
    "deg_to_rad = scipy.pi / 180.0\n",
    "rad_to_deg = 180.0 / scipy.pi\n"
   ]
  },
  {
   "cell_type": "markdown",
   "metadata": {},
   "source": [
    "### Udacity Dataset CH2-002\n",
    "* Start with Udacity dataset"
   ]
  },
  {
   "cell_type": "code",
   "execution_count": 67,
   "metadata": {
    "collapsed": true
   },
   "outputs": [],
   "source": [
    "udacity_data = pd.read_csv('/vol/data/train_center.csv')\n",
    "udacity_data['steering_angle_deg'] = udacity_data['steering_angle'] * rad_to_deg"
   ]
  },
  {
   "cell_type": "markdown",
   "metadata": {},
   "source": [
    "* Look at the start of the data"
   ]
  },
  {
   "cell_type": "code",
   "execution_count": 68,
   "metadata": {
    "collapsed": false
   },
   "outputs": [
    {
     "ename": "TypeError",
     "evalue": "unsupported operand type(s) for /: 'str' and 'float'",
     "output_type": "error",
     "traceback": [
      "\u001b[0;31m---------------------------------------------------------------------------\u001b[0m",
      "\u001b[0;31mTypeError\u001b[0m                                 Traceback (most recent call last)",
      "\u001b[0;32m<ipython-input-68-9fe2d31b6d11>\u001b[0m in \u001b[0;36m<module>\u001b[0;34m()\u001b[0m\n\u001b[0;32m----> 1\u001b[0;31m \u001b[0;32mprint\u001b[0m \u001b[0mudacity_data\u001b[0m\u001b[0;34m.\u001b[0m\u001b[0mdescribe\u001b[0m\u001b[0;34m(\u001b[0m\u001b[0;34m'steering_angle_deg'\u001b[0m\u001b[0;34m)\u001b[0m\u001b[0;34m\u001b[0m\u001b[0m\n\u001b[0m",
      "\u001b[0;32m/usr/local/lib/python2.7/site-packages/pandas/core/generic.pyc\u001b[0m in \u001b[0;36mdescribe\u001b[0;34m(self, percentile_width, percentiles, include, exclude)\u001b[0m\n\u001b[1;32m   4038\u001b[0m                 \u001b[0mdo_warn\u001b[0m \u001b[0;34m=\u001b[0m \u001b[0mFalse\u001b[0m\u001b[0;34m\u001b[0m\u001b[0m\n\u001b[1;32m   4039\u001b[0m             \u001b[0mpercentile_width\u001b[0m \u001b[0;34m=\u001b[0m \u001b[0mpercentile_width\u001b[0m \u001b[0;32mor\u001b[0m \u001b[0;36m50\u001b[0m\u001b[0;34m\u001b[0m\u001b[0m\n\u001b[0;32m-> 4040\u001b[0;31m             \u001b[0mlb\u001b[0m \u001b[0;34m=\u001b[0m \u001b[0;36m.5\u001b[0m \u001b[0;34m*\u001b[0m \u001b[0;34m(\u001b[0m\u001b[0;36m1.\u001b[0m \u001b[0;34m-\u001b[0m \u001b[0mpercentile_width\u001b[0m \u001b[0;34m/\u001b[0m \u001b[0;36m100.\u001b[0m\u001b[0;34m)\u001b[0m\u001b[0;34m\u001b[0m\u001b[0m\n\u001b[0m\u001b[1;32m   4041\u001b[0m             \u001b[0mub\u001b[0m \u001b[0;34m=\u001b[0m \u001b[0;36m1.\u001b[0m \u001b[0;34m-\u001b[0m \u001b[0mlb\u001b[0m\u001b[0;34m\u001b[0m\u001b[0m\n\u001b[1;32m   4042\u001b[0m             \u001b[0mpercentiles\u001b[0m \u001b[0;34m=\u001b[0m \u001b[0mnp\u001b[0m\u001b[0;34m.\u001b[0m\u001b[0marray\u001b[0m\u001b[0;34m(\u001b[0m\u001b[0;34m[\u001b[0m\u001b[0mlb\u001b[0m\u001b[0;34m,\u001b[0m \u001b[0;36m0.5\u001b[0m\u001b[0;34m,\u001b[0m \u001b[0mub\u001b[0m\u001b[0;34m]\u001b[0m\u001b[0;34m)\u001b[0m\u001b[0;34m\u001b[0m\u001b[0m\n",
      "\u001b[0;31mTypeError\u001b[0m: unsupported operand type(s) for /: 'str' and 'float'"
     ]
    }
   ],
   "source": [
    "print udacity_data.describe('steering_angle_deg')"
   ]
  },
  {
   "cell_type": "code",
   "execution_count": 69,
   "metadata": {
    "collapsed": false
   },
   "outputs": [
    {
     "name": "stdout",
     "output_type": "stream",
     "text": [
      "                               index            timestamp  width  height  \\\n",
      "0      2016-10-25 21:47:32.022833522  1477432052022833522    640     480   \n",
      "1      2016-10-25 21:47:32.074563453  1477432052074563453    640     480   \n",
      "2      2016-10-25 21:47:32.122746224  1477432052122746224    640     480   \n",
      "3      2016-10-25 21:47:32.172974247  1477432052172974247    640     480   \n",
      "4      2016-10-25 21:47:32.222806373  1477432052222806373    640     480   \n",
      "5      2016-10-25 21:47:32.272916289  1477432052272916289    640     480   \n",
      "6      2016-10-25 21:47:32.322868763  1477432052322868763    640     480   \n",
      "7      2016-10-25 21:47:32.373141228  1477432052373141228    640     480   \n",
      "8      2016-10-25 21:47:32.422730236  1477432052422730236    640     480   \n",
      "9      2016-10-25 21:47:32.472983051  1477432052472983051    640     480   \n",
      "10     2016-10-25 21:47:32.522794400  1477432052522794400    640     480   \n",
      "11     2016-10-25 21:47:32.572904166  1477432052572904166    640     480   \n",
      "12     2016-10-25 21:47:32.622966192  1477432052622966192    640     480   \n",
      "13     2016-10-25 21:47:32.672981789  1477432052672981789    640     480   \n",
      "14     2016-10-25 21:47:32.722867112  1477432052722867112    640     480   \n",
      "15     2016-10-25 21:47:32.772931144  1477432052772931144    640     480   \n",
      "16     2016-10-25 21:47:32.822836163  1477432052822836163    640     480   \n",
      "17     2016-10-25 21:47:32.872831707  1477432052872831707    640     480   \n",
      "18     2016-10-25 21:47:32.923606379  1477432052923606379    640     480   \n",
      "19     2016-10-25 21:47:32.972835163  1477432052972835163    640     480   \n",
      "20     2016-10-25 21:47:33.022853878  1477432053022853878    640     480   \n",
      "21     2016-10-25 21:47:33.072875584  1477432053072875584    640     480   \n",
      "22     2016-10-25 21:47:33.122905864  1477432053122905864    640     480   \n",
      "23     2016-10-25 21:47:33.172832485  1477432053172832485    640     480   \n",
      "24     2016-10-25 21:47:33.223075148  1477432053223075148    640     480   \n",
      "25     2016-10-25 21:47:33.272899965  1477432053272899965    640     480   \n",
      "26     2016-10-25 21:47:33.323061963  1477432053323061963    640     480   \n",
      "27     2016-10-25 21:47:33.373323001  1477432053373323001    640     480   \n",
      "28     2016-10-25 21:47:33.422919763  1477432053422919763    640     480   \n",
      "29     2016-10-25 21:47:33.474303656  1477432053474303656    640     480   \n",
      "...                              ...                  ...    ...     ...   \n",
      "71493  2016-10-25 23:41:59.978697613  1477438919978697613    640     480   \n",
      "71494  2016-10-25 23:42:00.028796259  1477438920028796259    640     480   \n",
      "71495  2016-10-25 23:42:00.078685488  1477438920078685488    640     480   \n",
      "71496  2016-10-25 23:42:00.128812733  1477438920128812733    640     480   \n",
      "71497  2016-10-25 23:42:00.178712206  1477438920178712206    640     480   \n",
      "71498  2016-10-25 23:42:00.228831589  1477438920228831589    640     480   \n",
      "71499  2016-10-25 23:42:00.278722254  1477438920278722254    640     480   \n",
      "71500  2016-10-25 23:42:00.329492718  1477438920329492718    640     480   \n",
      "71501  2016-10-25 23:42:00.378721000  1477438920378721000    640     480   \n",
      "71502  2016-10-25 23:42:00.428982043  1477438920428982043    640     480   \n",
      "71503  2016-10-25 23:42:00.478857991  1477438920478857991    640     480   \n",
      "71504  2016-10-25 23:42:00.528656001  1477438920528656001    640     480   \n",
      "71505  2016-10-25 23:42:00.578819381  1477438920578819381    640     480   \n",
      "71506  2016-10-25 23:42:00.628945265  1477438920628945265    640     480   \n",
      "71507  2016-10-25 23:42:00.678895852  1477438920678895852    640     480   \n",
      "71508  2016-10-25 23:42:00.729131464  1477438920729131464    640     480   \n",
      "71509  2016-10-25 23:42:00.778850616  1477438920778850616    640     480   \n",
      "71510  2016-10-25 23:42:00.828889646  1477438920828889646    640     480   \n",
      "71511  2016-10-25 23:42:00.878846700  1477438920878846700    640     480   \n",
      "71512  2016-10-25 23:42:00.929535515  1477438920929535515    640     480   \n",
      "71513  2016-10-25 23:42:00.978885217  1477438920978885217    640     480   \n",
      "71514  2016-10-25 23:42:01.028919445  1477438921028919445    640     480   \n",
      "71515  2016-10-25 23:42:01.078841682  1477438921078841682    640     480   \n",
      "71516  2016-10-25 23:42:01.128976523  1477438921128976523    640     480   \n",
      "71517  2016-10-25 23:42:01.179165856  1477438921179165856    640     480   \n",
      "71518  2016-10-25 23:42:01.228925030  1477438921228925030    640     480   \n",
      "71519  2016-10-25 23:42:01.278906674  1477438921278906674    640     480   \n",
      "71520  2016-10-25 23:42:01.328845150  1477438921328845150    640     480   \n",
      "71521  2016-10-25 23:42:01.378979473  1477438921378979473    640     480   \n",
      "71522  2016-10-25 23:42:01.428859194  1477438921428859194    640     480   \n",
      "\n",
      "            frame_id                        filename  steering_angle  \\\n",
      "0      center_camera  center/1477432052022833522.png        0.030784   \n",
      "1      center_camera  center/1477432052074563453.png        0.031416   \n",
      "2      center_camera  center/1477432052122746224.png        0.031416   \n",
      "3      center_camera  center/1477432052172974247.png        0.031416   \n",
      "4      center_camera  center/1477432052222806373.png        0.031416   \n",
      "5      center_camera  center/1477432052272916289.png        0.031416   \n",
      "6      center_camera  center/1477432052322868763.png        0.031416   \n",
      "7      center_camera  center/1477432052373141228.png        0.031416   \n",
      "8      center_camera  center/1477432052422730236.png        0.031416   \n",
      "9      center_camera  center/1477432052472983051.png        0.031416   \n",
      "10     center_camera  center/1477432052522794400.png        0.031416   \n",
      "11     center_camera  center/1477432052572904166.png        0.031416   \n",
      "12     center_camera  center/1477432052622966192.png        0.031416   \n",
      "13     center_camera  center/1477432052672981789.png        0.031416   \n",
      "14     center_camera  center/1477432052722867112.png        0.031416   \n",
      "15     center_camera  center/1477432052772931144.png        0.031554   \n",
      "16     center_camera  center/1477432052822836163.png        0.033161   \n",
      "17     center_camera  center/1477432052872831707.png        0.033161   \n",
      "18     center_camera  center/1477432052923606379.png        0.033161   \n",
      "19     center_camera  center/1477432052972835163.png        0.033161   \n",
      "20     center_camera  center/1477432053022853878.png        0.033161   \n",
      "21     center_camera  center/1477432053072875584.png        0.033161   \n",
      "22     center_camera  center/1477432053122905864.png        0.034119   \n",
      "23     center_camera  center/1477432053172832485.png        0.034907   \n",
      "24     center_camera  center/1477432053223075148.png        0.036652   \n",
      "25     center_camera  center/1477432053272899965.png        0.040143   \n",
      "26     center_camera  center/1477432053323061963.png        0.042830   \n",
      "27     center_camera  center/1477432053373323001.png        0.043718   \n",
      "28     center_camera  center/1477432053422919763.png        0.045379   \n",
      "29     center_camera  center/1477432053474303656.png        0.047124   \n",
      "...              ...                             ...             ...   \n",
      "71493  center_camera  center/1477438919978697613.png       -0.005236   \n",
      "71494  center_camera  center/1477438920028796259.png       -0.005236   \n",
      "71495  center_camera  center/1477438920078685488.png       -0.006981   \n",
      "71496  center_camera  center/1477438920128812733.png       -0.008727   \n",
      "71497  center_camera  center/1477438920178712206.png       -0.008727   \n",
      "71498  center_camera  center/1477438920228831589.png       -0.008727   \n",
      "71499  center_camera  center/1477438920278722254.png       -0.008727   \n",
      "71500  center_camera  center/1477438920329492718.png       -0.008727   \n",
      "71501  center_camera  center/1477438920378721000.png       -0.008711   \n",
      "71502  center_camera  center/1477438920428982043.png       -0.002617   \n",
      "71503  center_camera  center/1477438920478857991.png       -0.003491   \n",
      "71504  center_camera  center/1477438920528656001.png       -0.003491   \n",
      "71505  center_camera  center/1477438920578819381.png       -0.003491   \n",
      "71506  center_camera  center/1477438920628945265.png       -0.004333   \n",
      "71507  center_camera  center/1477438920678895852.png       -0.008687   \n",
      "71508  center_camera  center/1477438920729131464.png       -0.010472   \n",
      "71509  center_camera  center/1477438920778850616.png       -0.010472   \n",
      "71510  center_camera  center/1477438920828889646.png       -0.008727   \n",
      "71511  center_camera  center/1477438920878846700.png       -0.008727   \n",
      "71512  center_camera  center/1477438920929535515.png       -0.008727   \n",
      "71513  center_camera  center/1477438920978885217.png       -0.008727   \n",
      "71514  center_camera  center/1477438921028919445.png       -0.008727   \n",
      "71515  center_camera  center/1477438921078841682.png       -0.007086   \n",
      "71516  center_camera  center/1477438921128976523.png       -0.006981   \n",
      "71517  center_camera  center/1477438921179165856.png       -0.006981   \n",
      "71518  center_camera  center/1477438921228925030.png       -0.006981   \n",
      "71519  center_camera  center/1477438921278906674.png       -0.006981   \n",
      "71520  center_camera  center/1477438921328845150.png       -0.013683   \n",
      "71521  center_camera  center/1477438921378979473.png       -0.018927   \n",
      "71522  center_camera  center/1477438921428859194.png       -0.023409   \n",
      "\n",
      "         torque      speed        lat        long   alt  steering_angle_deg  \n",
      "0      0.414865   1.011877   0.000000    0.000000   0.0            1.763784  \n",
      "1      0.437500   1.028376   0.000000    0.000000   0.0            1.800000  \n",
      "2      0.398587   1.039570   0.000000    0.000000   0.0            1.800000  \n",
      "3      0.375000   1.053142   0.000000    0.000000   0.0            1.800000  \n",
      "4      0.273837   1.064548   0.000000    0.000000   0.0            1.800000  \n",
      "5      0.187500   1.075665   0.000000    0.000000   0.0            1.800000  \n",
      "6      0.125000   1.087815   0.000000    0.000000   0.0            1.800000  \n",
      "7      0.125000   1.100688   0.000000    0.000000   0.0            1.800000  \n",
      "8      0.062500   1.114440  37.538854 -122.299563 -42.5            1.800000  \n",
      "9      0.062500   1.128075  37.538854 -122.299564 -42.5            1.800000  \n",
      "10     0.062500   1.137760  37.538854 -122.299564 -42.5            1.800000  \n",
      "11     0.062500   1.147755  37.538854 -122.299565 -42.5            1.800000  \n",
      "12     0.062500   1.157208  37.538855 -122.299565 -42.5            1.800000  \n",
      "13     0.187500   1.167174  37.538855 -122.299566 -42.5            1.800000  \n",
      "14     0.286207   1.182605  37.538855 -122.299566 -42.5            1.800000  \n",
      "15     0.379962   1.200662  37.538855 -122.299567 -42.5            1.807939  \n",
      "16     0.401794   1.221427  37.538856 -122.299568 -42.5            1.900000  \n",
      "17     0.375000   1.239450  37.538856 -122.299568 -42.5            1.900000  \n",
      "18     0.375000   1.263879  37.538856 -122.299569 -42.5            1.900000  \n",
      "19     0.312500   1.292487  37.538857 -122.299569 -42.5            1.900000  \n",
      "20     0.312500   1.322838  37.538857 -122.299570 -42.5            1.900000  \n",
      "21     0.312500   1.353525  37.538857 -122.299570 -42.5            1.900000  \n",
      "22     0.346797   1.385399  37.538857 -122.299571 -42.5            1.954875  \n",
      "23     0.437500   1.422691  37.538858 -122.299571 -42.5            2.000000  \n",
      "24     0.437500   1.453600  37.538858 -122.299572 -42.5            2.100000  \n",
      "25     0.439707   1.492157  37.538858 -122.299572 -42.5            2.300000  \n",
      "26     0.500000   1.525662  37.538858 -122.299573 -42.5            2.453971  \n",
      "27     0.500000   1.561788  37.538859 -122.299573 -42.5            2.504877  \n",
      "28     0.500000   1.597630  37.538859 -122.299574 -42.5            2.600000  \n",
      "29     0.500000   1.640376  37.538860 -122.299575 -42.5            2.700000  \n",
      "...         ...        ...        ...         ...   ...                 ...  \n",
      "71493 -0.187500  15.341540  37.467286 -122.209353 -42.5           -0.300000  \n",
      "71494 -0.279653  15.329096  37.467282 -122.209347 -42.5           -0.300000  \n",
      "71495 -0.376888  15.324958  37.467277 -122.209341 -42.5           -0.400000  \n",
      "71496 -0.375000  15.320786  37.467272 -122.209334 -42.5           -0.500000  \n",
      "71497 -0.249406  15.319445  37.467268 -122.209328 -42.5           -0.500000  \n",
      "71498 -0.250000  15.318024  37.467263 -122.209322 -42.5           -0.500000  \n",
      "71499 -0.187500  15.308331  37.467259 -122.209315 -42.5           -0.500000  \n",
      "71500 -0.125000  15.300000  37.467254 -122.209309 -42.5           -0.500000  \n",
      "71501 -0.125000  15.288939  37.467249 -122.209303 -42.5           -0.499105  \n",
      "71502  0.031178  15.286105  37.467245 -122.209296 -42.5           -0.149962  \n",
      "71503 -0.063081  15.269419  37.467240 -122.209290 -42.5           -0.200000  \n",
      "71504 -0.062500  15.262708  37.467235 -122.209284 -42.5           -0.200000  \n",
      "71505 -0.062500  15.247320  37.467231 -122.209277 -42.5           -0.200000  \n",
      "71506 -0.340530  15.237547  37.467226 -122.209271 -42.5           -0.248283  \n",
      "71507 -0.312500  15.227841  37.467222 -122.209265 -42.5           -0.497710  \n",
      "71508 -0.280184  15.230556  37.467217 -122.209258 -42.5           -0.600000  \n",
      "71509 -0.187500  15.236016  37.467212 -122.209252 -42.5           -0.600000  \n",
      "71510 -0.216517  15.227777  37.467208 -122.209246 -42.5           -0.500000  \n",
      "71511 -0.244616  15.222342  37.467203 -122.209239 -42.5           -0.500000  \n",
      "71512 -0.064481  15.213977  37.467198 -122.209233 -42.5           -0.500000  \n",
      "71513 -0.246976  15.197491  37.467194 -122.209227 -42.5           -0.500000  \n",
      "71514 -0.131584  15.178363  37.467189 -122.209220 -42.5           -0.500000  \n",
      "71515  0.125000  15.158666  37.467185 -122.209214 -42.5           -0.405989  \n",
      "71516  0.090240  15.141979  37.467180 -122.209208 -42.5           -0.400000  \n",
      "71517  0.184296  15.133476  37.467175 -122.209201 -42.5           -0.400000  \n",
      "71518  0.222956  15.113061  37.467171 -122.209195 -42.5           -0.400000  \n",
      "71519 -0.057293  15.092361  37.467171 -122.209195 -42.5           -0.400000  \n",
      "71520 -0.207521  15.081000  37.467171 -122.209195 -42.5           -0.783984  \n",
      "71521 -0.427779  15.059198  37.467171 -122.209195 -42.5           -1.084446  \n",
      "71522 -0.378942  15.048854  37.467171 -122.209195 -42.5           -1.341262  \n",
      "\n",
      "[71523 rows x 13 columns]\n"
     ]
    }
   ],
   "source": [
    "print udacity_data"
   ]
  },
  {
   "cell_type": "code",
   "execution_count": 70,
   "metadata": {
    "collapsed": false
   },
   "outputs": [
    {
     "data": {
      "text/plain": [
       "{'boxes': [<matplotlib.lines.Line2D at 0x1078e8190>],\n",
       " 'caps': [<matplotlib.lines.Line2D at 0x1078f3050>,\n",
       "  <matplotlib.lines.Line2D at 0x1078f3690>],\n",
       " 'fliers': [<matplotlib.lines.Line2D at 0x1078fd350>],\n",
       " 'means': [],\n",
       " 'medians': [<matplotlib.lines.Line2D at 0x1078f3cd0>],\n",
       " 'whiskers': [<matplotlib.lines.Line2D at 0x1078d9e90>,\n",
       "  <matplotlib.lines.Line2D at 0x1078e89d0>]}"
      ]
     },
     "execution_count": 70,
     "metadata": {},
     "output_type": "execute_result"
    },
    {
     "data": {
      "image/png": "[encoded data removed]",
      "text/plain": [
       "<matplotlib.figure.Figure at 0x109334310>"
      ]
     },
     "metadata": {},
     "output_type": "display_data"
    }
   ],
   "source": [
    "udacity_data.boxplot('steering_angle_deg')"
   ]
  },
  {
   "cell_type": "code",
   "execution_count": 71,
   "metadata": {
    "collapsed": false
   },
   "outputs": [
    {
     "data": {
      "text/plain": [
       "array([[<matplotlib.axes._subplots.AxesSubplot object at 0x107915210>]], dtype=object)"
      ]
     },
     "execution_count": 71,
     "metadata": {},
     "output_type": "execute_result"
    },
    {
     "data": {
      "image/png": "[encoded data removed]",
      "text/plain": [
       "<matplotlib.figure.Figure at 0x107915a10>"
      ]
     },
     "metadata": {},
     "output_type": "display_data"
    }
   ],
   "source": [
    "udacity_data.hist('steering_angle_deg')"
   ]
  },
  {
   "cell_type": "markdown",
   "metadata": {},
   "source": [
    "### Autopilot Dataset\n",
    "* Compare with Autpilot dataset which trains better"
   ]
  },
  {
   "cell_type": "code",
   "execution_count": 72,
   "metadata": {
    "collapsed": true
   },
   "outputs": [],
   "source": [
    "autopilot_data = pd.read_csv('/vol/driving_dataset/data.csv', delimiter=' ')\n",
    "autopilot_data['steering_angle_rad'] = autopilot_data['steering_angle'] * deg_to_rad "
   ]
  },
  {
   "cell_type": "code",
   "execution_count": 73,
   "metadata": {
    "collapsed": false
   },
   "outputs": [
    {
     "name": "stdout",
     "output_type": "stream",
     "text": [
      "        filename  steering_angle  predicted_angle  steering_angle_rad\n",
      "0          0.jpg            0.00              NaN            0.000000\n",
      "1          1.jpg            0.00              NaN            0.000000\n",
      "2          2.jpg            0.00              NaN            0.000000\n",
      "3          3.jpg            0.00              NaN            0.000000\n",
      "4          4.jpg            0.00              NaN            0.000000\n",
      "5          5.jpg            0.00              NaN            0.000000\n",
      "6          6.jpg            0.00              NaN            0.000000\n",
      "7          7.jpg            0.00              NaN            0.000000\n",
      "8          8.jpg            0.00              NaN            0.000000\n",
      "9          9.jpg            0.00              NaN            0.000000\n",
      "10        10.jpg            0.00              NaN            0.000000\n",
      "11        11.jpg            0.00              NaN            0.000000\n",
      "12        12.jpg            0.00              NaN            0.000000\n",
      "13        13.jpg            0.00              NaN            0.000000\n",
      "14        14.jpg            0.00              NaN            0.000000\n",
      "15        15.jpg            0.00              NaN            0.000000\n",
      "16        16.jpg            0.00              NaN            0.000000\n",
      "17        17.jpg            0.00              NaN            0.000000\n",
      "18        18.jpg            0.00              NaN            0.000000\n",
      "19        19.jpg            0.00              NaN            0.000000\n",
      "20        20.jpg            0.00              NaN            0.000000\n",
      "21        21.jpg            0.00              NaN            0.000000\n",
      "22        22.jpg            0.00              NaN            0.000000\n",
      "23        23.jpg           11.70              NaN            0.204204\n",
      "24        24.jpg           11.70              NaN            0.204204\n",
      "25        25.jpg           10.39              NaN            0.181340\n",
      "26        26.jpg            9.28              NaN            0.161967\n",
      "27        27.jpg            8.77              NaN            0.153065\n",
      "28        28.jpg            7.06              NaN            0.123220\n",
      "29        29.jpg            3.93              NaN            0.068591\n",
      "...          ...             ...              ...                 ...\n",
      "45376  45376.jpg            1.51              NaN            0.026354\n",
      "45377  45377.jpg            1.51              NaN            0.026354\n",
      "45378  45378.jpg            1.51              NaN            0.026354\n",
      "45379  45379.jpg            1.51              NaN            0.026354\n",
      "45380  45380.jpg            1.51              NaN            0.026354\n",
      "45381  45381.jpg            1.61              NaN            0.028100\n",
      "45382  45382.jpg            1.61              NaN            0.028100\n",
      "45383  45383.jpg            1.61              NaN            0.028100\n",
      "45384  45384.jpg            1.51              NaN            0.026354\n",
      "45385  45385.jpg            1.51              NaN            0.026354\n",
      "45386  45386.jpg            1.31              NaN            0.022864\n",
      "45387  45387.jpg            1.21              NaN            0.021118\n",
      "45388  45388.jpg            1.21              NaN            0.021118\n",
      "45389  45389.jpg            1.21              NaN            0.021118\n",
      "45390  45390.jpg            1.21              NaN            0.021118\n",
      "45391  45391.jpg            1.21              NaN            0.021118\n",
      "45392  45392.jpg            1.21              NaN            0.021118\n",
      "45393  45393.jpg            1.21              NaN            0.021118\n",
      "45394  45394.jpg            1.21              NaN            0.021118\n",
      "45395  45395.jpg            1.21              NaN            0.021118\n",
      "45396  45396.jpg            1.21              NaN            0.021118\n",
      "45397  45397.jpg            1.82              NaN            0.031765\n",
      "45398  45398.jpg            2.22              NaN            0.038746\n",
      "45399  45399.jpg            2.22              NaN            0.038746\n",
      "45400  45400.jpg            2.22              NaN            0.038746\n",
      "45401  45401.jpg            2.22              NaN            0.038746\n",
      "45402  45402.jpg            2.22              NaN            0.038746\n",
      "45403  45403.jpg            2.22              NaN            0.038746\n",
      "45404  45404.jpg            2.22              NaN            0.038746\n",
      "45405  45405.jpg            0.00              NaN            0.000000\n",
      "\n",
      "[45406 rows x 4 columns]\n"
     ]
    }
   ],
   "source": [
    "print autopilot_data"
   ]
  },
  {
   "cell_type": "code",
   "execution_count": 74,
   "metadata": {
    "collapsed": false
   },
   "outputs": [
    {
     "name": "stdout",
     "output_type": "stream",
     "text": [
      "count    45406.000000\n",
      "mean         1.745058\n",
      "std         30.916780\n",
      "min       -159.930000\n",
      "25%         -5.450000\n",
      "50%          1.010000\n",
      "75%          8.870000\n",
      "max        501.780000\n",
      "Name: steering_angle, dtype: float64\n"
     ]
    }
   ],
   "source": [
    "print autopilot_data['steering_angle'].describe()"
   ]
  },
  {
   "cell_type": "code",
   "execution_count": 75,
   "metadata": {
    "collapsed": false
   },
   "outputs": [
    {
     "data": {
      "text/plain": [
       "{'boxes': [<matplotlib.lines.Line2D at 0x10956ef10>],\n",
       " 'caps': [<matplotlib.lines.Line2D at 0x10957ce90>,\n",
       "  <matplotlib.lines.Line2D at 0x1095873d0>],\n",
       " 'fliers': [<matplotlib.lines.Line2D at 0x109593090>],\n",
       " 'means': [],\n",
       " 'medians': [<matplotlib.lines.Line2D at 0x109587a10>],\n",
       " 'whiskers': [<matplotlib.lines.Line2D at 0x10957c190>,\n",
       "  <matplotlib.lines.Line2D at 0x10957c850>]}"
      ]
     },
     "execution_count": 75,
     "metadata": {},
     "output_type": "execute_result"
    },
    {
     "data": {
      "image/png": "[encoded data removed]",
      "text/plain": [
       "<matplotlib.figure.Figure at 0x107a73990>"
      ]
     },
     "metadata": {},
     "output_type": "display_data"
    }
   ],
   "source": [
    "autopilot_data.boxplot('steering_angle')"
   ]
  },
  {
   "cell_type": "code",
   "execution_count": 76,
   "metadata": {
    "collapsed": false
   },
   "outputs": [
    {
     "data": {
      "text/plain": [
       "array([[<matplotlib.axes._subplots.AxesSubplot object at 0x107aa0f50>]], dtype=object)"
      ]
     },
     "execution_count": 76,
     "metadata": {},
     "output_type": "execute_result"
    },
    {
     "data": {
      "image/png": "[encoded data removed]",
      "text/plain": [
       "<matplotlib.figure.Figure at 0x1095a9f50>"
      ]
     },
     "metadata": {},
     "output_type": "display_data"
    }
   ],
   "source": [
    "autopilot_data.hist('steering_angle')"
   ]
  },
  {
   "cell_type": "markdown",
   "metadata": {},
   "source": [
    "## Comparisons"
   ]
  },
  {
   "cell_type": "code",
   "execution_count": 77,
   "metadata": {
    "collapsed": false
   },
   "outputs": [
    {
     "data": {
      "text/plain": [
       "array([[<matplotlib.axes._subplots.AxesSubplot object at 0x10b850b10>]], dtype=object)"
      ]
     },
     "execution_count": 77,
     "metadata": {},
     "output_type": "execute_result"
    },
    {
     "data": {
      "image/png": "[encoded data removed]",
      "text/plain": [
       "<matplotlib.figure.Figure at 0x1096912d0>"
      ]
     },
     "metadata": {},
     "output_type": "display_data"
    },
    {
     "data": {
      "image/png": "[encoded data removed]",
      "text/plain": [
       "<matplotlib.figure.Figure at 0x10b786150>"
      ]
     },
     "metadata": {},
     "output_type": "display_data"
    }
   ],
   "source": [
    "udacity_data.hist('steering_angle_deg')\n",
    "autopilot_data.hist('steering_angle')"
   ]
  },
  {
   "cell_type": "code",
   "execution_count": 81,
   "metadata": {
    "collapsed": false
   },
   "outputs": [
    {
     "data": {
      "text/plain": [
       "{'boxes': [<matplotlib.lines.Line2D at 0x10859fc90>],\n",
       " 'caps': [<matplotlib.lines.Line2D at 0x108c0a110>,\n",
       "  <matplotlib.lines.Line2D at 0x108c0a750>],\n",
       " 'fliers': [<matplotlib.lines.Line2D at 0x10869b810>],\n",
       " 'means': [],\n",
       " 'medians': [<matplotlib.lines.Line2D at 0x108b58cd0>],\n",
       " 'whiskers': [<matplotlib.lines.Line2D at 0x10859fbd0>,\n",
       "  <matplotlib.lines.Line2D at 0x10859f790>]}"
      ]
     },
     "execution_count": 81,
     "metadata": {},
     "output_type": "execute_result"
    },
    {
     "data": {
      "image/png": "[encoded data removed]",
      "text/plain": [
       "<matplotlib.figure.Figure at 0x108691510>"
      ]
     },
     "metadata": {},
     "output_type": "display_data"
    }
   ],
   "source": [
    "udacity_data.boxplot('steering_angle_deg')\n"
   ]
  },
  {
   "cell_type": "code",
   "execution_count": 82,
   "metadata": {
    "collapsed": false
   },
   "outputs": [
    {
     "data": {
      "text/plain": [
       "{'boxes': [<matplotlib.lines.Line2D at 0x108846350>],\n",
       " 'caps': [<matplotlib.lines.Line2D at 0x10b747190>,\n",
       "  <matplotlib.lines.Line2D at 0x10b7477d0>],\n",
       " 'fliers': [<matplotlib.lines.Line2D at 0x10b751490>],\n",
       " 'means': [],\n",
       " 'medians': [<matplotlib.lines.Line2D at 0x10b747e10>],\n",
       " 'whiskers': [<matplotlib.lines.Line2D at 0x108846450>,\n",
       "  <matplotlib.lines.Line2D at 0x108846b10>]}"
      ]
     },
     "execution_count": 82,
     "metadata": {},
     "output_type": "execute_result"
    },
    {
     "data": {
      "image/png": "[encoded data removed]",
      "text/plain": [
       "<matplotlib.figure.Figure at 0x10899fb10>"
      ]
     },
     "metadata": {},
     "output_type": "display_data"
    }
   ],
   "source": [
    "autopilot_data.boxplot('steering_angle')"
   ]
  },
  {
   "cell_type": "code",
   "execution_count": null,
   "metadata": {
    "collapsed": true
   },
   "outputs": [],
   "source": []
  }
 ],
 "metadata": {
  "kernelspec": {
   "display_name": "Python 2",
   "language": "python",
   "name": "python2"
  },
  "language_info": {
   "codemirror_mode": {
    "name": "ipython",
    "version": 2
   },
   "file_extension": ".py",
   "mimetype": "text/x-python",
   "name": "python",
   "nbconvert_exporter": "python",
   "pygments_lexer": "ipython2",
   "version": "2.7.11"
  }
 },
 "nbformat": 4,
 "nbformat_minor": 0
}
